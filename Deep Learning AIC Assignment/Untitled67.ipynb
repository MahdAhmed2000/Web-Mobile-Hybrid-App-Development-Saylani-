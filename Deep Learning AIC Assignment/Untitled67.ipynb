{
  "nbformat": 4,
  "nbformat_minor": 0,
  "metadata": {
    "colab": {
      "name": "Untitled67.ipynb",
      "provenance": [],
      "collapsed_sections": []
    },
    "kernelspec": {
      "name": "python3",
      "display_name": "Python 3"
    }
  },
  "cells": [
    {
      "cell_type": "code",
      "metadata": {
        "id": "Syb_GaUD_34D",
        "colab_type": "code",
        "colab": {
          "base_uri": "https://localhost:8080/",
          "height": 122
        },
        "outputId": "bc66603b-3e81-4db7-ecd9-8b594939cc2c"
      },
      "source": [
        "from google.colab import drive\n",
        "drive.mount('/content/drive')"
      ],
      "execution_count": null,
      "outputs": [
        {
          "output_type": "stream",
          "text": [
            "Go to this URL in a browser: https://accounts.google.com/o/oauth2/auth?client_id=947318989803-6bn6qk8qdgf4n4g3pfee6491hc0brc4i.apps.googleusercontent.com&redirect_uri=urn%3aietf%3awg%3aoauth%3a2.0%3aoob&response_type=code&scope=email%20https%3a%2f%2fwww.googleapis.com%2fauth%2fdocs.test%20https%3a%2f%2fwww.googleapis.com%2fauth%2fdrive%20https%3a%2f%2fwww.googleapis.com%2fauth%2fdrive.photos.readonly%20https%3a%2f%2fwww.googleapis.com%2fauth%2fpeopleapi.readonly\n",
            "\n",
            "Enter your authorization code:\n",
            "··········\n",
            "Mounted at /content/drive\n"
          ],
          "name": "stdout"
        }
      ]
    },
    {
      "cell_type": "code",
      "metadata": {
        "id": "HmgpNPLeDv_d",
        "colab_type": "code",
        "colab": {
          "base_uri": "https://localhost:8080/",
          "height": 1000
        },
        "outputId": "52525701-0ce1-46b2-bf3e-1f439f458d47"
      },
      "source": [
        "import nltk\n",
        "from nltk.corpus import stopwords\n",
        "nltk.download('stopwords')\n",
        "stop_list = list(stopwords.words('english'))\n",
        "stop_list"
      ],
      "execution_count": null,
      "outputs": [
        {
          "output_type": "stream",
          "text": [
            "[nltk_data] Downloading package stopwords to /root/nltk_data...\n",
            "[nltk_data]   Unzipping corpora/stopwords.zip.\n"
          ],
          "name": "stdout"
        },
        {
          "output_type": "execute_result",
          "data": {
            "text/plain": [
              "['i',\n",
              " 'me',\n",
              " 'my',\n",
              " 'myself',\n",
              " 'we',\n",
              " 'our',\n",
              " 'ours',\n",
              " 'ourselves',\n",
              " 'you',\n",
              " \"you're\",\n",
              " \"you've\",\n",
              " \"you'll\",\n",
              " \"you'd\",\n",
              " 'your',\n",
              " 'yours',\n",
              " 'yourself',\n",
              " 'yourselves',\n",
              " 'he',\n",
              " 'him',\n",
              " 'his',\n",
              " 'himself',\n",
              " 'she',\n",
              " \"she's\",\n",
              " 'her',\n",
              " 'hers',\n",
              " 'herself',\n",
              " 'it',\n",
              " \"it's\",\n",
              " 'its',\n",
              " 'itself',\n",
              " 'they',\n",
              " 'them',\n",
              " 'their',\n",
              " 'theirs',\n",
              " 'themselves',\n",
              " 'what',\n",
              " 'which',\n",
              " 'who',\n",
              " 'whom',\n",
              " 'this',\n",
              " 'that',\n",
              " \"that'll\",\n",
              " 'these',\n",
              " 'those',\n",
              " 'am',\n",
              " 'is',\n",
              " 'are',\n",
              " 'was',\n",
              " 'were',\n",
              " 'be',\n",
              " 'been',\n",
              " 'being',\n",
              " 'have',\n",
              " 'has',\n",
              " 'had',\n",
              " 'having',\n",
              " 'do',\n",
              " 'does',\n",
              " 'did',\n",
              " 'doing',\n",
              " 'a',\n",
              " 'an',\n",
              " 'the',\n",
              " 'and',\n",
              " 'but',\n",
              " 'if',\n",
              " 'or',\n",
              " 'because',\n",
              " 'as',\n",
              " 'until',\n",
              " 'while',\n",
              " 'of',\n",
              " 'at',\n",
              " 'by',\n",
              " 'for',\n",
              " 'with',\n",
              " 'about',\n",
              " 'against',\n",
              " 'between',\n",
              " 'into',\n",
              " 'through',\n",
              " 'during',\n",
              " 'before',\n",
              " 'after',\n",
              " 'above',\n",
              " 'below',\n",
              " 'to',\n",
              " 'from',\n",
              " 'up',\n",
              " 'down',\n",
              " 'in',\n",
              " 'out',\n",
              " 'on',\n",
              " 'off',\n",
              " 'over',\n",
              " 'under',\n",
              " 'again',\n",
              " 'further',\n",
              " 'then',\n",
              " 'once',\n",
              " 'here',\n",
              " 'there',\n",
              " 'when',\n",
              " 'where',\n",
              " 'why',\n",
              " 'how',\n",
              " 'all',\n",
              " 'any',\n",
              " 'both',\n",
              " 'each',\n",
              " 'few',\n",
              " 'more',\n",
              " 'most',\n",
              " 'other',\n",
              " 'some',\n",
              " 'such',\n",
              " 'no',\n",
              " 'nor',\n",
              " 'not',\n",
              " 'only',\n",
              " 'own',\n",
              " 'same',\n",
              " 'so',\n",
              " 'than',\n",
              " 'too',\n",
              " 'very',\n",
              " 's',\n",
              " 't',\n",
              " 'can',\n",
              " 'will',\n",
              " 'just',\n",
              " 'don',\n",
              " \"don't\",\n",
              " 'should',\n",
              " \"should've\",\n",
              " 'now',\n",
              " 'd',\n",
              " 'll',\n",
              " 'm',\n",
              " 'o',\n",
              " 're',\n",
              " 've',\n",
              " 'y',\n",
              " 'ain',\n",
              " 'aren',\n",
              " \"aren't\",\n",
              " 'couldn',\n",
              " \"couldn't\",\n",
              " 'didn',\n",
              " \"didn't\",\n",
              " 'doesn',\n",
              " \"doesn't\",\n",
              " 'hadn',\n",
              " \"hadn't\",\n",
              " 'hasn',\n",
              " \"hasn't\",\n",
              " 'haven',\n",
              " \"haven't\",\n",
              " 'isn',\n",
              " \"isn't\",\n",
              " 'ma',\n",
              " 'mightn',\n",
              " \"mightn't\",\n",
              " 'mustn',\n",
              " \"mustn't\",\n",
              " 'needn',\n",
              " \"needn't\",\n",
              " 'shan',\n",
              " \"shan't\",\n",
              " 'shouldn',\n",
              " \"shouldn't\",\n",
              " 'wasn',\n",
              " \"wasn't\",\n",
              " 'weren',\n",
              " \"weren't\",\n",
              " 'won',\n",
              " \"won't\",\n",
              " 'wouldn',\n",
              " \"wouldn't\"]"
            ]
          },
          "metadata": {
            "tags": []
          },
          "execution_count": 2
        }
      ]
    },
    {
      "cell_type": "code",
      "metadata": {
        "id": "6ShDrIMsBoJo",
        "colab_type": "code",
        "colab": {}
      },
      "source": [
        "f = open('/content/1.txt')\n",
        "texts = []\n",
        "labels = []\n",
        "for line in f:\n",
        "  values = line.split()\n",
        "  i = 0\n",
        "  a = []\n",
        "  for j in values:\n",
        "    i += 1\n",
        "    if j[-1] == ':':\n",
        "      text_app = values[i:]\n",
        "  for h in text_app:\n",
        "    if h not in stop_list:\n",
        "      a.append(h)\n",
        "  texts.append(a)\n",
        "  if values[:1] == '__label__2':\n",
        "    labels.append(1)\n",
        "  else:\n",
        "    labels.append(0)"
      ],
      "execution_count": null,
      "outputs": []
    },
    {
      "cell_type": "code",
      "metadata": {
        "id": "46CwbVVAhA1r",
        "colab_type": "code",
        "colab": {
          "base_uri": "https://localhost:8080/",
          "height": 1000
        },
        "outputId": "f302f387-e670-4697-cc62-74d9341c0656"
      },
      "source": [
        "texts[6]"
      ],
      "execution_count": null,
      "outputs": [
        {
          "output_type": "execute_result",
          "data": {
            "text/plain": [
              "['This',\n",
              " 'self-published',\n",
              " 'book,',\n",
              " 'want',\n",
              " 'know',\n",
              " 'why--read',\n",
              " 'paragraphs!',\n",
              " 'Those',\n",
              " '5',\n",
              " 'star',\n",
              " 'reviews',\n",
              " 'must',\n",
              " 'written',\n",
              " 'Ms.',\n",
              " \"Haddon's\",\n",
              " 'family',\n",
              " 'friends--or',\n",
              " 'perhaps,',\n",
              " 'herself!',\n",
              " 'I',\n",
              " \"can't\",\n",
              " 'imagine',\n",
              " 'anyone',\n",
              " 'reading',\n",
              " 'whole',\n",
              " 'thing--I',\n",
              " 'spent',\n",
              " 'evening',\n",
              " 'book',\n",
              " 'friend',\n",
              " 'hysterics',\n",
              " 'reading',\n",
              " 'bits',\n",
              " 'pieces',\n",
              " 'one',\n",
              " 'another.',\n",
              " 'It',\n",
              " 'definitely',\n",
              " 'bad',\n",
              " 'enough',\n",
              " 'entered',\n",
              " 'kind',\n",
              " '\"worst',\n",
              " 'book\"',\n",
              " 'contest.',\n",
              " 'I',\n",
              " \"can't\",\n",
              " 'believe',\n",
              " 'Amazon',\n",
              " 'even',\n",
              " 'sells',\n",
              " 'kind',\n",
              " 'thing.',\n",
              " 'Maybe',\n",
              " 'I',\n",
              " 'offer',\n",
              " '8th',\n",
              " 'grade',\n",
              " 'term',\n",
              " 'paper',\n",
              " '\"To',\n",
              " 'Kill',\n",
              " 'Mockingbird\"--a',\n",
              " 'book',\n",
              " 'I',\n",
              " 'quite',\n",
              " 'sure',\n",
              " 'Ms.',\n",
              " 'Haddon',\n",
              " 'never',\n",
              " 'heard',\n",
              " 'of.',\n",
              " 'Anyway,',\n",
              " 'unless',\n",
              " 'mood',\n",
              " 'send',\n",
              " 'book',\n",
              " 'someone',\n",
              " 'joke---stay',\n",
              " 'far,',\n",
              " 'far',\n",
              " 'away',\n",
              " 'one!']"
            ]
          },
          "metadata": {
            "tags": []
          },
          "execution_count": 30
        }
      ]
    },
    {
      "cell_type": "code",
      "metadata": {
        "id": "cl9fsFhujRaU",
        "colab_type": "code",
        "colab": {
          "base_uri": "https://localhost:8080/",
          "height": 139
        },
        "outputId": "f622ef6c-f4a6-4a68-92ed-35ac38e24bf1"
      },
      "source": [
        "texts = np.array(texts)\n",
        "# import numpy as np\n",
        "indices = np.arange(5)\n",
        "np.random.shuffle(indices)\n",
        "test_samples = texts[indices]\n",
        "test_samples"
      ],
      "execution_count": null,
      "outputs": [
        {
          "output_type": "execute_result",
          "data": {
            "text/plain": [
              "array([list([\"I'm\", 'reading', 'lot', 'reviews', 'saying', 'best', \"'game\", \"soundtrack'\", 'I', 'figured', \"I'd\", 'write', 'review', 'disagree', 'bit.', 'This', 'opinino', 'Yasunori', \"Mitsuda's\", 'ultimate', 'masterpiece.', 'The', 'music', 'timeless', \"I'm\", 'listening', 'years', 'beauty', 'simply', 'refuses', 'fade.The', 'price', 'tag', 'pretty', 'staggering', 'I', 'must', 'say,', 'going', 'buy', 'cd', 'much', 'money,', 'one', 'I', 'feel', 'would', 'worth', 'every', 'penny.']),\n",
              "       list(['The', 'best', 'three.', 'Garden', 'Of', 'God,', 'Chronopolis,', 'Fates,', 'Jellyfish', 'sea,', 'Burning', 'Orphange,', \"Dragon's\", 'Prayer,', 'Tower', 'Of', 'Stars,', 'Dragon', 'God,', 'Radical', 'Dreamers', '-', 'Unstealable', 'Jewel.Overall,', 'excellent', 'soundtrack', 'brought', 'like', 'video', 'game', 'music.Xander', 'Cross']),\n",
              "       list(['This', 'sound', 'track', 'beautiful!', 'It', 'paints', 'senery', 'mind', 'well', 'I', 'would', 'recomend', 'even', 'people', 'hate', 'vid.', 'game', 'music!', 'I', 'played', 'game', 'Chrono', 'Cross', 'games', 'I', 'ever', 'played', 'best', 'music!', 'It', 'backs', 'away', 'crude', 'keyboarding', 'takes', 'fresher', 'step', 'grate', 'guitars', 'soulful', 'orchestras.', 'It', 'would', 'impress', 'anyone', 'cares', 'listen!', '^_^']),\n",
              "       list(['This', 'soundtrack', 'favorite', 'music', 'time,', 'hands', 'down.', 'The', 'intense', 'sadness', '\"Prisoners', 'Fate\"', '(which', 'means', 'played', 'game)', 'hope', '\"A', 'Distant', 'Promise\"', '\"Girl', 'Stole', 'Star\"', 'important', 'inspiration', 'personally', 'throughout', 'teen', 'years.', 'The', 'higher', 'energy', 'tracks', 'like', '\"Chrono', 'Cross', '~', \"Time's\", 'Scar~\",', '\"Time', 'Dreamwatch\",', '\"Chronomantique\"', '(indefinably', 'remeniscent', 'Chrono', 'Trigger)', 'absolutely', 'superb', 'well.This', 'soundtrack', 'amazing', 'music,', 'probably', 'best', \"composer's\", 'work', '(I', 'heard', 'Xenogears', 'soundtrack,', 'I', \"can't\", 'say', 'sure),', 'even', 'never', 'played', 'game,', 'would', 'worth', 'twice', 'price', 'buy', 'it.I', 'wish', 'I', 'could', 'give', '6', 'stars.']),\n",
              "       list(['Unstolen', 'Jewel.', '(Translation', 'varies)', 'This', 'music', 'perfect', 'ask', 'me,', 'best', 'be.', 'Yasunori', 'Mitsuda', 'poured', 'heart', 'wrote', 'paper.'])],\n",
              "      dtype=object)"
            ]
          },
          "metadata": {
            "tags": []
          },
          "execution_count": 32
        }
      ]
    },
    {
      "cell_type": "code",
      "metadata": {
        "id": "k_ZTR78rjtQI",
        "colab_type": "code",
        "colab": {
          "base_uri": "https://localhost:8080/",
          "height": 1000
        },
        "outputId": "5859c98e-3ee5-4911-ca8a-66fd714443fe"
      },
      "source": [
        "new_dict = {}\n",
        "for sample in test_samples:\n",
        "  for word in sample:\n",
        "    new_dict[word] = len(new_dict) + 1\n",
        "new_dict"
      ],
      "execution_count": null,
      "outputs": [
        {
          "output_type": "execute_result",
          "data": {
            "text/plain": [
              "{'\"A': 122,\n",
              " '\"Chrono': 137,\n",
              " '\"Chronomantique\"': 143,\n",
              " '\"Girl': 125,\n",
              " '\"Prisoners': 116,\n",
              " '\"Time': 141,\n",
              " \"'game\": 7,\n",
              " '(I': 155,\n",
              " '(Translation': 173,\n",
              " '(indefinably': 144,\n",
              " '(which': 118,\n",
              " '-': 65,\n",
              " '6': 169,\n",
              " 'Burning': 56,\n",
              " 'Chrono': 146,\n",
              " 'Chronopolis,': 52,\n",
              " 'Cross': 138,\n",
              " 'Distant': 123,\n",
              " 'Dragon': 62,\n",
              " \"Dragon's\": 58,\n",
              " 'Dreamers': 64,\n",
              " 'Dreamwatch\",': 142,\n",
              " 'Fate\"': 117,\n",
              " 'Fates,': 53,\n",
              " 'Garden': 49,\n",
              " 'God,': 63,\n",
              " 'I': 167,\n",
              " \"I'd\": 11,\n",
              " \"I'm\": 25,\n",
              " 'It': 105,\n",
              " 'Jellyfish': 54,\n",
              " 'Jewel.': 172,\n",
              " 'Jewel.Overall,': 67,\n",
              " 'Mitsuda': 179,\n",
              " \"Mitsuda's\": 19,\n",
              " 'Of': 61,\n",
              " 'Orphange,': 57,\n",
              " 'Prayer,': 59,\n",
              " 'Promise\"': 124,\n",
              " 'Radical': 63,\n",
              " 'Scar~\",': 140,\n",
              " 'Star\"': 127,\n",
              " 'Stars,': 61,\n",
              " 'Stole': 126,\n",
              " 'The': 134,\n",
              " 'This': 175,\n",
              " \"Time's\": 139,\n",
              " 'Tower': 60,\n",
              " 'Trigger)': 146,\n",
              " 'Unstealable': 66,\n",
              " 'Unstolen': 171,\n",
              " 'Xenogears': 157,\n",
              " 'Yasunori': 179,\n",
              " '^_^': 109,\n",
              " 'absolutely': 147,\n",
              " 'amazing': 150,\n",
              " 'anyone': 106,\n",
              " 'ask': 176,\n",
              " 'away': 95,\n",
              " 'backs': 94,\n",
              " 'be.': 178,\n",
              " 'beautiful!': 78,\n",
              " 'beauty': 27,\n",
              " 'best': 178,\n",
              " 'bit.': 15,\n",
              " 'brought': 70,\n",
              " 'buy': 165,\n",
              " \"can't\": 159,\n",
              " 'cares': 107,\n",
              " 'cd': 39,\n",
              " \"composer's\": 153,\n",
              " 'could': 167,\n",
              " 'crude': 96,\n",
              " 'disagree': 14,\n",
              " 'down.': 113,\n",
              " 'energy': 135,\n",
              " 'even': 162,\n",
              " 'ever': 93,\n",
              " 'every': 46,\n",
              " 'excellent': 68,\n",
              " 'fade.The': 30,\n",
              " 'favorite': 110,\n",
              " 'feel': 43,\n",
              " 'figured': 10,\n",
              " 'fresher': 99,\n",
              " 'game': 91,\n",
              " 'game)': 120,\n",
              " 'game,': 163,\n",
              " 'games': 92,\n",
              " 'give': 168,\n",
              " 'going': 37,\n",
              " 'grate': 101,\n",
              " 'guitars': 102,\n",
              " 'hands': 112,\n",
              " 'hate': 87,\n",
              " 'heard': 156,\n",
              " 'heart': 181,\n",
              " 'higher': 134,\n",
              " 'hope': 121,\n",
              " 'important': 128,\n",
              " 'impress': 105,\n",
              " 'inspiration': 129,\n",
              " 'intense': 114,\n",
              " 'it.I': 165,\n",
              " 'keyboarding': 97,\n",
              " 'like': 137,\n",
              " 'listen!': 108,\n",
              " 'listening': 25,\n",
              " 'lot': 3,\n",
              " 'masterpiece.': 21,\n",
              " 'me,': 177,\n",
              " 'means': 119,\n",
              " 'mind': 82,\n",
              " 'money,': 41,\n",
              " 'much': 40,\n",
              " 'music': 175,\n",
              " 'music!': 94,\n",
              " 'music,': 151,\n",
              " 'music.Xander': 74,\n",
              " 'must': 35,\n",
              " 'never': 162,\n",
              " 'one': 42,\n",
              " 'opinino': 17,\n",
              " 'orchestras.': 104,\n",
              " 'paints': 80,\n",
              " 'paper.': 183,\n",
              " 'penny.': 47,\n",
              " 'people': 86,\n",
              " 'perfect': 175,\n",
              " 'personally': 130,\n",
              " 'played': 163,\n",
              " 'poured': 180,\n",
              " 'pretty': 33,\n",
              " 'price': 165,\n",
              " 'probably': 152,\n",
              " 'reading': 2,\n",
              " 'recomend': 84,\n",
              " 'refuses': 29,\n",
              " 'remeniscent': 145,\n",
              " 'review': 13,\n",
              " 'reviews': 4,\n",
              " 'sadness': 115,\n",
              " 'say': 160,\n",
              " 'say,': 36,\n",
              " 'saying': 5,\n",
              " 'sea,': 55,\n",
              " 'senery': 81,\n",
              " 'simply': 28,\n",
              " 'soulful': 103,\n",
              " 'sound': 76,\n",
              " 'soundtrack': 150,\n",
              " \"soundtrack'\": 8,\n",
              " 'soundtrack,': 158,\n",
              " 'staggering': 34,\n",
              " 'stars.': 170,\n",
              " 'step': 100,\n",
              " 'superb': 148,\n",
              " 'sure),': 161,\n",
              " 'tag': 32,\n",
              " 'takes': 98,\n",
              " 'teen': 132,\n",
              " 'three.': 48,\n",
              " 'throughout': 131,\n",
              " 'time,': 111,\n",
              " 'timeless': 24,\n",
              " 'track': 77,\n",
              " 'tracks': 136,\n",
              " 'twice': 164,\n",
              " 'ultimate': 20,\n",
              " 'varies)': 174,\n",
              " 'vid.': 88,\n",
              " 'video': 72,\n",
              " 'well': 83,\n",
              " 'well.This': 149,\n",
              " 'wish': 166,\n",
              " 'work': 154,\n",
              " 'worth': 164,\n",
              " 'would': 164,\n",
              " 'write': 12,\n",
              " 'wrote': 182,\n",
              " 'years': 26,\n",
              " 'years.': 133,\n",
              " '~': 138}"
            ]
          },
          "metadata": {
            "tags": []
          },
          "execution_count": 33
        }
      ]
    },
    {
      "cell_type": "code",
      "metadata": {
        "id": "OgeYLg80kEYC",
        "colab_type": "code",
        "colab": {}
      },
      "source": [
        "#embeddings = np.zeros((len(test_samples), 10, len(new_dict)))\n",
        "for i, sample in enumerate(test_samples):\n",
        "  for j, word in enumerate(sample[:10]):\n",
        "    index = new_dict.get(word)\n",
        "    embeddings[i, j, index] = 1"
      ],
      "execution_count": null,
      "outputs": []
    },
    {
      "cell_type": "code",
      "metadata": {
        "id": "l5uO7LF5l7ie",
        "colab_type": "code",
        "colab": {
          "base_uri": "https://localhost:8080/",
          "height": 136
        },
        "outputId": "ca830083-99dc-487d-d5a1-55ff9aaa4818"
      },
      "source": [
        "embeddings"
      ],
      "execution_count": null,
      "outputs": [
        {
          "output_type": "execute_result",
          "data": {
            "text/plain": [
              "array([[0., 0., 0., ..., 0., 0., 0.],\n",
              "       [0., 0., 1., ..., 0., 0., 0.],\n",
              "       [0., 0., 0., ..., 0., 0., 0.],\n",
              "       ...,\n",
              "       [0., 0., 0., ..., 0., 0., 0.],\n",
              "       [0., 0., 0., ..., 0., 0., 0.],\n",
              "       [0., 0., 0., ..., 0., 0., 0.]])"
            ]
          },
          "metadata": {
            "tags": []
          },
          "execution_count": 41
        }
      ]
    },
    {
      "cell_type": "code",
      "metadata": {
        "id": "WDj0FRe1maTa",
        "colab_type": "code",
        "colab": {
          "base_uri": "https://localhost:8080/",
          "height": 139
        },
        "outputId": "6edad736-1a99-40d3-86ba-b767038118e6"
      },
      "source": [
        "#from tensorflow.keras.preprocessing.text import Tokenizer\n",
        "#tokenizer = Tokenizer(num_words=1000)\n",
        "#tokenizer.fit_on_texts(test_samples)\n",
        "#bi_samples = tokenizer.texts_to_sequences(test_samples)\n",
        "#bi_samples = tokenizer.texts_to_matrix(test_samples, mode='binary')\n",
        "#len(tokenizer.word_index)\n",
        "print(tokenizer.word_index)\n",
        "bi_samples"
      ],
      "execution_count": null,
      "outputs": [
        {
          "output_type": "stream",
          "text": [
            "{'i': 1, 'best': 2, 'this': 3, 'the': 4, 'would': 5, 'played': 6, 'music': 7, 'soundtrack': 8, 'game': 9, 'cross': 10, 'it': 11, \"i'm\": 12, 'yasunori': 13, 'price': 14, 'buy': 15, 'worth': 16, 'of': 17, 'god,': 18, 'like': 19, 'even': 20, 'music!': 21, 'chrono': 22, 'reading': 23, 'lot': 24, 'reviews': 25, 'saying': 26, \"'game\": 27, \"soundtrack'\": 28, 'figured': 29, \"i'd\": 30, 'write': 31, 'review': 32, 'disagree': 33, 'bit.': 34, 'opinino': 35, \"mitsuda's\": 36, 'ultimate': 37, 'masterpiece.': 38, 'timeless': 39, 'listening': 40, 'years': 41, 'beauty': 42, 'simply': 43, 'refuses': 44, 'fade.the': 45, 'tag': 46, 'pretty': 47, 'staggering': 48, 'must': 49, 'say,': 50, 'going': 51, 'cd': 52, 'much': 53, 'money,': 54, 'one': 55, 'feel': 56, 'every': 57, 'penny.': 58, 'three.': 59, 'garden': 60, 'chronopolis,': 61, 'fates,': 62, 'jellyfish': 63, 'sea,': 64, 'burning': 65, 'orphange,': 66, \"dragon's\": 67, 'prayer,': 68, 'tower': 69, 'stars,': 70, 'dragon': 71, 'radical': 72, 'dreamers': 73, '-': 74, 'unstealable': 75, 'jewel.overall,': 76, 'excellent': 77, 'brought': 78, 'video': 79, 'music.xander': 80, 'sound': 81, 'track': 82, 'beautiful!': 83, 'paints': 84, 'senery': 85, 'mind': 86, 'well': 87, 'recomend': 88, 'people': 89, 'hate': 90, 'vid.': 91, 'games': 92, 'ever': 93, 'backs': 94, 'away': 95, 'crude': 96, 'keyboarding': 97, 'takes': 98, 'fresher': 99, 'step': 100, 'grate': 101, 'guitars': 102, 'soulful': 103, 'orchestras.': 104, 'impress': 105, 'anyone': 106, 'cares': 107, 'listen!': 108, '^_^': 109, 'favorite': 110, 'time,': 111, 'hands': 112, 'down.': 113, 'intense': 114, 'sadness': 115, '\"prisoners': 116, 'fate\"': 117, '(which': 118, 'means': 119, 'game)': 120, 'hope': 121, '\"a': 122, 'distant': 123, 'promise\"': 124, '\"girl': 125, 'stole': 126, 'star\"': 127, 'important': 128, 'inspiration': 129, 'personally': 130, 'throughout': 131, 'teen': 132, 'years.': 133, 'higher': 134, 'energy': 135, 'tracks': 136, '\"chrono': 137, '~': 138, \"time's\": 139, 'scar~\",': 140, '\"time': 141, 'dreamwatch\",': 142, '\"chronomantique\"': 143, '(indefinably': 144, 'remeniscent': 145, 'trigger)': 146, 'absolutely': 147, 'superb': 148, 'well.this': 149, 'amazing': 150, 'music,': 151, 'probably': 152, \"composer's\": 153, 'work': 154, '(i': 155, 'heard': 156, 'xenogears': 157, 'soundtrack,': 158, \"can't\": 159, 'say': 160, 'sure),': 161, 'never': 162, 'game,': 163, 'twice': 164, 'it.i': 165, 'wish': 166, 'could': 167, 'give': 168, '6': 169, 'stars.': 170, 'unstolen': 171, 'jewel.': 172, '(translation': 173, 'varies)': 174, 'perfect': 175, 'ask': 176, 'me,': 177, 'be.': 178, 'mitsuda': 179, 'poured': 180, 'heart': 181, 'wrote': 182, 'paper.': 183}\n"
          ],
          "name": "stdout"
        },
        {
          "output_type": "execute_result",
          "data": {
            "text/plain": [
              "array([[0., 1., 1., ..., 0., 0., 0.],\n",
              "       [0., 0., 1., ..., 0., 0., 0.],\n",
              "       [0., 1., 1., ..., 0., 0., 0.],\n",
              "       [0., 1., 1., ..., 0., 0., 0.],\n",
              "       [0., 0., 1., ..., 0., 0., 0.]])"
            ]
          },
          "metadata": {
            "tags": []
          },
          "execution_count": 47
        }
      ]
    },
    {
      "cell_type": "code",
      "metadata": {
        "id": "qbIBJuTop5OE",
        "colab_type": "code",
        "colab": {
          "base_uri": "https://localhost:8080/",
          "height": 680
        },
        "outputId": "90c769ef-a7ab-4a00-a112-8959f33b4007"
      },
      "source": [
        "dimensionality = 1000\n",
        "results = np.zeros((len(test_samples), 10, dimensionality))\n",
        "for i, sample in enumerate(test_samples):\n",
        "  for j, word in enumerate(sample[:10]):\n",
        "    index = abs(hash(word)) % dimensionality\n",
        "    results[i, j, index] = 1\n",
        "results"
      ],
      "execution_count": null,
      "outputs": [
        {
          "output_type": "execute_result",
          "data": {
            "text/plain": [
              "array([[[0., 0., 0., ..., 0., 0., 0.],\n",
              "        [0., 0., 0., ..., 0., 0., 0.],\n",
              "        [0., 0., 0., ..., 0., 0., 0.],\n",
              "        ...,\n",
              "        [0., 0., 0., ..., 0., 0., 0.],\n",
              "        [0., 0., 0., ..., 0., 0., 0.],\n",
              "        [0., 0., 0., ..., 0., 0., 0.]],\n",
              "\n",
              "       [[0., 0., 0., ..., 0., 0., 0.],\n",
              "        [0., 0., 0., ..., 0., 0., 0.],\n",
              "        [0., 0., 0., ..., 0., 0., 0.],\n",
              "        ...,\n",
              "        [0., 0., 0., ..., 0., 0., 0.],\n",
              "        [0., 0., 0., ..., 0., 0., 0.],\n",
              "        [0., 0., 0., ..., 0., 0., 0.]],\n",
              "\n",
              "       [[0., 0., 0., ..., 0., 0., 0.],\n",
              "        [0., 0., 0., ..., 0., 0., 0.],\n",
              "        [0., 0., 0., ..., 0., 0., 0.],\n",
              "        ...,\n",
              "        [0., 0., 0., ..., 0., 0., 0.],\n",
              "        [0., 0., 0., ..., 0., 0., 0.],\n",
              "        [0., 0., 0., ..., 0., 0., 0.]],\n",
              "\n",
              "       [[0., 0., 0., ..., 0., 0., 0.],\n",
              "        [0., 0., 0., ..., 0., 0., 0.],\n",
              "        [0., 0., 0., ..., 0., 0., 0.],\n",
              "        ...,\n",
              "        [0., 0., 0., ..., 0., 0., 0.],\n",
              "        [0., 0., 0., ..., 0., 0., 0.],\n",
              "        [0., 0., 0., ..., 0., 0., 0.]],\n",
              "\n",
              "       [[0., 0., 0., ..., 0., 0., 0.],\n",
              "        [0., 0., 0., ..., 0., 0., 0.],\n",
              "        [0., 0., 0., ..., 0., 0., 0.],\n",
              "        ...,\n",
              "        [0., 0., 0., ..., 0., 0., 0.],\n",
              "        [0., 0., 0., ..., 0., 0., 0.],\n",
              "        [0., 0., 0., ..., 0., 0., 0.]]])"
            ]
          },
          "metadata": {
            "tags": []
          },
          "execution_count": 49
        }
      ]
    },
    {
      "cell_type": "code",
      "metadata": {
        "id": "hfriAdRxsXY_",
        "colab_type": "code",
        "colab": {
          "base_uri": "https://localhost:8080/",
          "height": 867
        },
        "outputId": "2e4dee1c-a649-4e1d-b6ca-4749491a5094"
      },
      "source": [
        "targets2 = []\n",
        "for i in range(results.shape[0]):\n",
        "  for j in range(results.shape[1]):\n",
        "    for k in range(embeddings.shape[2]):\n",
        "      if embeddings[i, j, k] == 1:\n",
        "        targets2.append(k)\n",
        "        break\n",
        "targets2"
      ],
      "execution_count": null,
      "outputs": [
        {
          "output_type": "execute_result",
          "data": {
            "text/plain": [
              "[25,\n",
              " 2,\n",
              " 3,\n",
              " 4,\n",
              " 5,\n",
              " 178,\n",
              " 7,\n",
              " 8,\n",
              " 167,\n",
              " 10,\n",
              " 134,\n",
              " 178,\n",
              " 48,\n",
              " 49,\n",
              " 61,\n",
              " 63,\n",
              " 52,\n",
              " 53,\n",
              " 54,\n",
              " 55,\n",
              " 175,\n",
              " 76,\n",
              " 77,\n",
              " 78,\n",
              " 105,\n",
              " 80,\n",
              " 81,\n",
              " 82,\n",
              " 83,\n",
              " 167,\n",
              " 175,\n",
              " 150,\n",
              " 110,\n",
              " 175,\n",
              " 111,\n",
              " 112,\n",
              " 113,\n",
              " 134,\n",
              " 114,\n",
              " 115,\n",
              " 171,\n",
              " 172,\n",
              " 173,\n",
              " 174,\n",
              " 175,\n",
              " 175,\n",
              " 175,\n",
              " 176,\n",
              " 177,\n",
              " 178]"
            ]
          },
          "metadata": {
            "tags": []
          },
          "execution_count": 52
        }
      ]
    },
    {
      "cell_type": "code",
      "metadata": {
        "id": "Qdar5e4VuB6N",
        "colab_type": "code",
        "colab": {
          "base_uri": "https://localhost:8080/",
          "height": 34
        },
        "outputId": "e0dc622c-c290-4a64-922a-dc1bb56448f2"
      },
      "source": [
        "score = 0\n",
        "total = len(targets)\n",
        "for i in range(len(targets)):\n",
        "  if targets[i] == targets2[i]:\n",
        "    score += 1\n",
        "print(\"The two techniques are : {} \".format(score // total) + \" similar\")"
      ],
      "execution_count": null,
      "outputs": [
        {
          "output_type": "stream",
          "text": [
            "The two techniques are : 0  similar\n"
          ],
          "name": "stdout"
        }
      ]
    },
    {
      "cell_type": "code",
      "metadata": {
        "id": "HYyzFE4Tu2Bl",
        "colab_type": "code",
        "colab": {
          "base_uri": "https://localhost:8080/",
          "height": 34
        },
        "outputId": "290bc297-6922-4faf-9361-9cd673f0909b"
      },
      "source": [
        "score = 0\n",
        "total = len(tokenizer.word_index)\n",
        "for key in tokenizer.word_index.keys():\n",
        "  value1 = new_dict.get(key)\n",
        "  value2 = tokenizer.word_index.get(key)\n",
        "  if value1 == value2:\n",
        "    score += 1\n",
        "print(\"The manual one-hot-encoding and automatic one-hot-encoding techniques are : {} \".format(score // total) + \" similar\")"
      ],
      "execution_count": null,
      "outputs": [
        {
          "output_type": "stream",
          "text": [
            "The manual one-hot-encoding and automatic one-hot-encoding techniques are : 0  similar\n"
          ],
          "name": "stdout"
        }
      ]
    },
    {
      "cell_type": "code",
      "metadata": {
        "id": "7YmdyEtZvgxd",
        "colab_type": "code",
        "colab": {
          "base_uri": "https://localhost:8080/",
          "height": 1000
        },
        "outputId": "c5d26cc3-aff1-4a75-b542-5f287c94b8d8"
      },
      "source": [
        "new_dict"
      ],
      "execution_count": null,
      "outputs": [
        {
          "output_type": "execute_result",
          "data": {
            "text/plain": [
              "{'\"A': 122,\n",
              " '\"Chrono': 137,\n",
              " '\"Chronomantique\"': 143,\n",
              " '\"Girl': 125,\n",
              " '\"Prisoners': 116,\n",
              " '\"Time': 141,\n",
              " \"'game\": 7,\n",
              " '(I': 155,\n",
              " '(Translation': 173,\n",
              " '(indefinably': 144,\n",
              " '(which': 118,\n",
              " '-': 65,\n",
              " '6': 169,\n",
              " 'Burning': 56,\n",
              " 'Chrono': 146,\n",
              " 'Chronopolis,': 52,\n",
              " 'Cross': 138,\n",
              " 'Distant': 123,\n",
              " 'Dragon': 62,\n",
              " \"Dragon's\": 58,\n",
              " 'Dreamers': 64,\n",
              " 'Dreamwatch\",': 142,\n",
              " 'Fate\"': 117,\n",
              " 'Fates,': 53,\n",
              " 'Garden': 49,\n",
              " 'God,': 63,\n",
              " 'I': 167,\n",
              " \"I'd\": 11,\n",
              " \"I'm\": 25,\n",
              " 'It': 105,\n",
              " 'Jellyfish': 54,\n",
              " 'Jewel.': 172,\n",
              " 'Jewel.Overall,': 67,\n",
              " 'Mitsuda': 179,\n",
              " \"Mitsuda's\": 19,\n",
              " 'Of': 61,\n",
              " 'Orphange,': 57,\n",
              " 'Prayer,': 59,\n",
              " 'Promise\"': 124,\n",
              " 'Radical': 63,\n",
              " 'Scar~\",': 140,\n",
              " 'Star\"': 127,\n",
              " 'Stars,': 61,\n",
              " 'Stole': 126,\n",
              " 'The': 134,\n",
              " 'This': 175,\n",
              " \"Time's\": 139,\n",
              " 'Tower': 60,\n",
              " 'Trigger)': 146,\n",
              " 'Unstealable': 66,\n",
              " 'Unstolen': 171,\n",
              " 'Xenogears': 157,\n",
              " 'Yasunori': 179,\n",
              " '^_^': 109,\n",
              " 'absolutely': 147,\n",
              " 'amazing': 150,\n",
              " 'anyone': 106,\n",
              " 'ask': 176,\n",
              " 'away': 95,\n",
              " 'backs': 94,\n",
              " 'be.': 178,\n",
              " 'beautiful!': 78,\n",
              " 'beauty': 27,\n",
              " 'best': 178,\n",
              " 'bit.': 15,\n",
              " 'brought': 70,\n",
              " 'buy': 165,\n",
              " \"can't\": 159,\n",
              " 'cares': 107,\n",
              " 'cd': 39,\n",
              " \"composer's\": 153,\n",
              " 'could': 167,\n",
              " 'crude': 96,\n",
              " 'disagree': 14,\n",
              " 'down.': 113,\n",
              " 'energy': 135,\n",
              " 'even': 162,\n",
              " 'ever': 93,\n",
              " 'every': 46,\n",
              " 'excellent': 68,\n",
              " 'fade.The': 30,\n",
              " 'favorite': 110,\n",
              " 'feel': 43,\n",
              " 'figured': 10,\n",
              " 'fresher': 99,\n",
              " 'game': 91,\n",
              " 'game)': 120,\n",
              " 'game,': 163,\n",
              " 'games': 92,\n",
              " 'give': 168,\n",
              " 'going': 37,\n",
              " 'grate': 101,\n",
              " 'guitars': 102,\n",
              " 'hands': 112,\n",
              " 'hate': 87,\n",
              " 'heard': 156,\n",
              " 'heart': 181,\n",
              " 'higher': 134,\n",
              " 'hope': 121,\n",
              " 'important': 128,\n",
              " 'impress': 105,\n",
              " 'inspiration': 129,\n",
              " 'intense': 114,\n",
              " 'it.I': 165,\n",
              " 'keyboarding': 97,\n",
              " 'like': 137,\n",
              " 'listen!': 108,\n",
              " 'listening': 25,\n",
              " 'lot': 3,\n",
              " 'masterpiece.': 21,\n",
              " 'me,': 177,\n",
              " 'means': 119,\n",
              " 'mind': 82,\n",
              " 'money,': 41,\n",
              " 'much': 40,\n",
              " 'music': 175,\n",
              " 'music!': 94,\n",
              " 'music,': 151,\n",
              " 'music.Xander': 74,\n",
              " 'must': 35,\n",
              " 'never': 162,\n",
              " 'one': 42,\n",
              " 'opinino': 17,\n",
              " 'orchestras.': 104,\n",
              " 'paints': 80,\n",
              " 'paper.': 183,\n",
              " 'penny.': 47,\n",
              " 'people': 86,\n",
              " 'perfect': 175,\n",
              " 'personally': 130,\n",
              " 'played': 163,\n",
              " 'poured': 180,\n",
              " 'pretty': 33,\n",
              " 'price': 165,\n",
              " 'probably': 152,\n",
              " 'reading': 2,\n",
              " 'recomend': 84,\n",
              " 'refuses': 29,\n",
              " 'remeniscent': 145,\n",
              " 'review': 13,\n",
              " 'reviews': 4,\n",
              " 'sadness': 115,\n",
              " 'say': 160,\n",
              " 'say,': 36,\n",
              " 'saying': 5,\n",
              " 'sea,': 55,\n",
              " 'senery': 81,\n",
              " 'simply': 28,\n",
              " 'soulful': 103,\n",
              " 'sound': 76,\n",
              " 'soundtrack': 150,\n",
              " \"soundtrack'\": 8,\n",
              " 'soundtrack,': 158,\n",
              " 'staggering': 34,\n",
              " 'stars.': 170,\n",
              " 'step': 100,\n",
              " 'superb': 148,\n",
              " 'sure),': 161,\n",
              " 'tag': 32,\n",
              " 'takes': 98,\n",
              " 'teen': 132,\n",
              " 'three.': 48,\n",
              " 'throughout': 131,\n",
              " 'time,': 111,\n",
              " 'timeless': 24,\n",
              " 'track': 77,\n",
              " 'tracks': 136,\n",
              " 'twice': 164,\n",
              " 'ultimate': 20,\n",
              " 'varies)': 174,\n",
              " 'vid.': 88,\n",
              " 'video': 72,\n",
              " 'well': 83,\n",
              " 'well.This': 149,\n",
              " 'wish': 166,\n",
              " 'work': 154,\n",
              " 'worth': 164,\n",
              " 'would': 164,\n",
              " 'write': 12,\n",
              " 'wrote': 182,\n",
              " 'years': 26,\n",
              " 'years.': 133,\n",
              " '~': 138}"
            ]
          },
          "metadata": {
            "tags": []
          },
          "execution_count": 60
        }
      ]
    },
    {
      "cell_type": "code",
      "metadata": {
        "id": "NdZ1TaDUdSeo",
        "colab_type": "code",
        "colab": {
          "base_uri": "https://localhost:8080/",
          "height": 51
        },
        "outputId": "f1723af2-0809-43c6-cb52-fe5c13097515"
      },
      "source": [
        "import nltk\n",
        "nltk.download('stopwords')\n",
        "from nltk.corpus import stopwords\n",
        "stop_list = stopwords.words('english')\n",
        "reviews = []\n",
        "labels = []\n",
        "f = open('/content/1.txt')\n",
        "for line in f:\n",
        "  values = line.split()\n",
        "  label = values[0]\n",
        "  text = values[1:(len(values) - 1)]\n",
        "  a = []\n",
        "  for i in range(len(text)):\n",
        "    if text[i] not in stop_list:\n",
        "      a.append(text[i])\n",
        "  reviews.append(a)\n",
        "  if label == '__label__2':\n",
        "    labels.append(1)\n",
        "  else: \n",
        "    labels.append(0)"
      ],
      "execution_count": 3,
      "outputs": [
        {
          "output_type": "stream",
          "text": [
            "[nltk_data] Downloading package stopwords to /root/nltk_data...\n",
            "[nltk_data]   Unzipping corpora/stopwords.zip.\n"
          ],
          "name": "stdout"
        }
      ]
    },
    {
      "cell_type": "code",
      "metadata": {
        "id": "vmFWXiLmkFIz",
        "colab_type": "code",
        "colab": {
          "base_uri": "https://localhost:8080/",
          "height": 867
        },
        "outputId": "132d8d71-a8aa-4321-e4ab-d92f019f8eca"
      },
      "source": [
        "reviews[0]"
      ],
      "execution_count": null,
      "outputs": [
        {
          "output_type": "execute_result",
          "data": {
            "text/plain": [
              "['Stuning',\n",
              " 'even',\n",
              " 'non-gamer:',\n",
              " 'This',\n",
              " 'sound',\n",
              " 'track',\n",
              " 'beautiful!',\n",
              " 'It',\n",
              " 'paints',\n",
              " 'senery',\n",
              " 'mind',\n",
              " 'well',\n",
              " 'I',\n",
              " 'would',\n",
              " 'recomend',\n",
              " 'even',\n",
              " 'people',\n",
              " 'hate',\n",
              " 'vid.',\n",
              " 'game',\n",
              " 'music!',\n",
              " 'I',\n",
              " 'played',\n",
              " 'game',\n",
              " 'Chrono',\n",
              " 'Cross',\n",
              " 'games',\n",
              " 'I',\n",
              " 'ever',\n",
              " 'played',\n",
              " 'best',\n",
              " 'music!',\n",
              " 'It',\n",
              " 'backs',\n",
              " 'away',\n",
              " 'crude',\n",
              " 'keyboarding',\n",
              " 'takes',\n",
              " 'fresher',\n",
              " 'step',\n",
              " 'grate',\n",
              " 'guitars',\n",
              " 'soulful',\n",
              " 'orchestras.',\n",
              " 'It',\n",
              " 'would',\n",
              " 'impress',\n",
              " 'anyone',\n",
              " 'cares',\n",
              " 'listen!']"
            ]
          },
          "metadata": {
            "tags": []
          },
          "execution_count": 11
        }
      ]
    },
    {
      "cell_type": "code",
      "metadata": {
        "id": "PR8M5rQyh9UY",
        "colab_type": "code",
        "colab": {}
      },
      "source": [
        "from tensorflow.keras.preprocessing.text import Tokenizer\n",
        "from tensorflow.keras.preprocessing import sequence\n",
        "from tensorflow.keras.preprocessing.sequence import pad_sequences\n",
        "tokenizer = Tokenizer()\n",
        "tokenizer.fit_on_texts(reviews)\n",
        "data = tokenizer.texts_to_sequences(reviews)\n",
        "data = pad_sequences(data, maxlen=40)"
      ],
      "execution_count": 4,
      "outputs": []
    },
    {
      "cell_type": "code",
      "metadata": {
        "id": "rrz8v8F1mkD4",
        "colab_type": "code",
        "colab": {}
      },
      "source": [
        "import numpy as np\n",
        "labels = np.array(labels)\n",
        "indices = np.arange(len(labels))\n",
        "np.random.shuffle(indices)\n",
        "data = data[indices]\n",
        "labels = labels[indices]"
      ],
      "execution_count": 5,
      "outputs": []
    },
    {
      "cell_type": "code",
      "metadata": {
        "id": "JV8S4C9Vm71b",
        "colab_type": "code",
        "colab": {}
      },
      "source": [
        "x_train = data[:10000]\n",
        "x_val = data[10000:11000]\n",
        "x_test = data[11000:12000]\n",
        "y_train = labels[:10000]\n",
        "y_val = labels[10000:11000]\n",
        "y_test = labels[11000:12000]"
      ],
      "execution_count": 6,
      "outputs": []
    },
    {
      "cell_type": "code",
      "metadata": {
        "id": "wj06E5Hmny1p",
        "colab_type": "code",
        "colab": {}
      },
      "source": [
        "from tensorflow.keras import models\n",
        "from tensorflow.keras import layers\n",
        "from tensorflow.keras import optimizers"
      ],
      "execution_count": 7,
      "outputs": []
    },
    {
      "cell_type": "code",
      "metadata": {
        "id": "MUMwS1hnoBfF",
        "colab_type": "code",
        "colab": {}
      },
      "source": [
        "Model = models.Sequential()\n",
        "Model.add(layers.Embedding((len(tokenizer.word_index)+1), 32, input_length=40))\n",
        "Model.add(layers.Flatten())\n",
        "Model.add(layers.Dense(1, activation='sigmoid'))"
      ],
      "execution_count": 8,
      "outputs": []
    },
    {
      "cell_type": "code",
      "metadata": {
        "id": "zAH0G4WOohgQ",
        "colab_type": "code",
        "colab": {}
      },
      "source": [
        "Model.compile(loss='binary_crossentropy', optimizer=optimizers.RMSprop(), metrics=['acc'])"
      ],
      "execution_count": null,
      "outputs": []
    },
    {
      "cell_type": "code",
      "metadata": {
        "id": "WadgA6p7orzQ",
        "colab_type": "code",
        "colab": {
          "base_uri": "https://localhost:8080/",
          "height": 1000
        },
        "outputId": "e5af0e13-1a4f-441f-ee0b-e6c9c016b73d"
      },
      "source": [
        "history = Model.fit(x_train, y_train, epochs=30, batch_size=32, validation_data=(x_val, y_val))"
      ],
      "execution_count": null,
      "outputs": [
        {
          "output_type": "stream",
          "text": [
            "Epoch 1/30\n",
            "313/313 [==============================] - 21s 67ms/step - loss: 0.6561 - acc: 0.6348 - val_loss: 0.5672 - val_acc: 0.7670\n",
            "Epoch 2/30\n",
            "313/313 [==============================] - 22s 69ms/step - loss: 0.4222 - acc: 0.8522 - val_loss: 0.4103 - val_acc: 0.8210\n",
            "Epoch 3/30\n",
            "313/313 [==============================] - 21s 67ms/step - loss: 0.2610 - acc: 0.9113 - val_loss: 0.3781 - val_acc: 0.8330\n",
            "Epoch 4/30\n",
            "313/313 [==============================] - 21s 66ms/step - loss: 0.1659 - acc: 0.9496 - val_loss: 0.3748 - val_acc: 0.8320\n",
            "Epoch 5/30\n",
            "313/313 [==============================] - 21s 66ms/step - loss: 0.1019 - acc: 0.9744 - val_loss: 0.3867 - val_acc: 0.8280\n",
            "Epoch 6/30\n",
            "313/313 [==============================] - 21s 66ms/step - loss: 0.0596 - acc: 0.9858 - val_loss: 0.4026 - val_acc: 0.8280\n",
            "Epoch 7/30\n",
            "313/313 [==============================] - 21s 67ms/step - loss: 0.0344 - acc: 0.9924 - val_loss: 0.4244 - val_acc: 0.8250\n",
            "Epoch 8/30\n",
            "313/313 [==============================] - 21s 68ms/step - loss: 0.0198 - acc: 0.9958 - val_loss: 0.4502 - val_acc: 0.8190\n",
            "Epoch 9/30\n",
            "313/313 [==============================] - 21s 66ms/step - loss: 0.0119 - acc: 0.9978 - val_loss: 0.4755 - val_acc: 0.8170\n",
            "Epoch 10/30\n",
            "313/313 [==============================] - 21s 66ms/step - loss: 0.0076 - acc: 0.9983 - val_loss: 0.4957 - val_acc: 0.8180\n",
            "Epoch 11/30\n",
            "313/313 [==============================] - 21s 66ms/step - loss: 0.0048 - acc: 0.9986 - val_loss: 0.5233 - val_acc: 0.8160\n",
            "Epoch 12/30\n",
            "313/313 [==============================] - 21s 66ms/step - loss: 0.0031 - acc: 0.9990 - val_loss: 0.5477 - val_acc: 0.8160\n",
            "Epoch 13/30\n",
            "313/313 [==============================] - 21s 66ms/step - loss: 0.0018 - acc: 0.9995 - val_loss: 0.5816 - val_acc: 0.8020\n",
            "Epoch 14/30\n",
            "313/313 [==============================] - 21s 66ms/step - loss: 0.0011 - acc: 0.9997 - val_loss: 0.6130 - val_acc: 0.8050\n",
            "Epoch 15/30\n",
            "313/313 [==============================] - 21s 66ms/step - loss: 7.4108e-04 - acc: 0.9998 - val_loss: 0.6272 - val_acc: 0.8050\n",
            "Epoch 16/30\n",
            "313/313 [==============================] - 21s 66ms/step - loss: 3.9714e-04 - acc: 0.9999 - val_loss: 0.6524 - val_acc: 0.8020\n",
            "Epoch 17/30\n",
            "313/313 [==============================] - 21s 67ms/step - loss: 2.7566e-04 - acc: 1.0000 - val_loss: 0.6777 - val_acc: 0.8030\n",
            "Epoch 18/30\n",
            "313/313 [==============================] - 22s 69ms/step - loss: 1.6088e-04 - acc: 1.0000 - val_loss: 0.7039 - val_acc: 0.7990\n",
            "Epoch 19/30\n",
            "313/313 [==============================] - 21s 66ms/step - loss: 8.1870e-05 - acc: 1.0000 - val_loss: 0.7205 - val_acc: 0.8040\n",
            "Epoch 20/30\n",
            "313/313 [==============================] - 21s 66ms/step - loss: 3.1718e-05 - acc: 1.0000 - val_loss: 0.7692 - val_acc: 0.7970\n",
            "Epoch 21/30\n",
            "313/313 [==============================] - 21s 66ms/step - loss: 1.9829e-05 - acc: 1.0000 - val_loss: 0.7775 - val_acc: 0.8000\n",
            "Epoch 22/30\n",
            "313/313 [==============================] - 21s 67ms/step - loss: 9.8563e-06 - acc: 1.0000 - val_loss: 0.8060 - val_acc: 0.7990\n",
            "Epoch 23/30\n",
            "313/313 [==============================] - 21s 66ms/step - loss: 4.6536e-06 - acc: 1.0000 - val_loss: 0.8256 - val_acc: 0.8010\n",
            "Epoch 24/30\n",
            "313/313 [==============================] - 21s 66ms/step - loss: 2.6348e-06 - acc: 1.0000 - val_loss: 0.8441 - val_acc: 0.8020\n",
            "Epoch 25/30\n",
            "313/313 [==============================] - 21s 66ms/step - loss: 2.1702e-06 - acc: 1.0000 - val_loss: 0.8514 - val_acc: 0.8030\n",
            "Epoch 26/30\n",
            "313/313 [==============================] - 21s 66ms/step - loss: 9.5982e-07 - acc: 1.0000 - val_loss: 0.8682 - val_acc: 0.7950\n",
            "Epoch 27/30\n",
            "313/313 [==============================] - 21s 66ms/step - loss: 4.3924e-07 - acc: 1.0000 - val_loss: 0.8833 - val_acc: 0.7970\n",
            "Epoch 28/30\n",
            "313/313 [==============================] - 21s 66ms/step - loss: 3.9940e-07 - acc: 1.0000 - val_loss: 0.8910 - val_acc: 0.8010\n",
            "Epoch 29/30\n",
            "313/313 [==============================] - 21s 66ms/step - loss: 2.0601e-07 - acc: 1.0000 - val_loss: 0.9010 - val_acc: 0.8000\n",
            "Epoch 30/30\n",
            "313/313 [==============================] - 21s 66ms/step - loss: 1.5891e-07 - acc: 1.0000 - val_loss: 0.9152 - val_acc: 0.7980\n"
          ],
          "name": "stdout"
        }
      ]
    },
    {
      "cell_type": "code",
      "metadata": {
        "id": "VQUTC-1krcWC",
        "colab_type": "code",
        "colab": {
          "base_uri": "https://localhost:8080/",
          "height": 51
        },
        "outputId": "3e4b1a2c-c9f6-4120-ae3d-11bc5656fc47"
      },
      "source": [
        "Model.evaluate(x_test, y_test)"
      ],
      "execution_count": null,
      "outputs": [
        {
          "output_type": "stream",
          "text": [
            "32/32 [==============================] - 0s 1ms/step - loss: 0.9480 - acc: 0.8060\n"
          ],
          "name": "stdout"
        },
        {
          "output_type": "execute_result",
          "data": {
            "text/plain": [
              "[0.9480429291725159, 0.8059999942779541]"
            ]
          },
          "metadata": {
            "tags": []
          },
          "execution_count": 14
        }
      ]
    },
    {
      "cell_type": "code",
      "metadata": {
        "id": "28BtuH3HshNX",
        "colab_type": "code",
        "colab": {
          "base_uri": "https://localhost:8080/",
          "height": 545
        },
        "outputId": "10c143a7-6424-4c78-eff1-3c6e16e70e20"
      },
      "source": [
        "import matplotlib.pyplot as plt\n",
        "train_acc = history.history['acc']\n",
        "val_acc = history.history['val_acc']\n",
        "train_loss = history.history['loss']\n",
        "val_loss = history.history['val_loss']\n",
        "epochs = range(1, 31)\n",
        "plt.plot(epochs, train_loss, 'bo', label='train_loss')\n",
        "plt.plot(epochs, val_loss, 'b', label='val_loss')\n",
        "plt.title('Training And Validation Loss')\n",
        "plt.legend()\n",
        "plt.figure()\n",
        "plt.plot(epochs, train_acc, 'bo', label='train_acc')\n",
        "plt.plot(epochs, val_acc, 'b', label='val_acc')\n",
        "plt.title('Training And Validation Accuracy')\n",
        "plt.legend()\n",
        "plt.show()"
      ],
      "execution_count": null,
      "outputs": [
        {
          "output_type": "display_data",
          "data": {
            "image/png": "[encoded data removed]",
            "text/plain": [
              "<Figure size 432x288 with 1 Axes>"
            ]
          },
          "metadata": {
            "tags": [],
            "needs_background": "light"
          }
        },
        {
          "output_type": "display_data",
          "data": {
            "image/png": "[encoded data removed]",
            "text/plain": [
              "<Figure size 432x288 with 1 Axes>"
            ]
          },
          "metadata": {
            "tags": [],
            "needs_background": "light"
          }
        }
      ]
    },
    {
      "cell_type": "code",
      "metadata": {
        "id": "-iw8axQ8IuaK",
        "colab_type": "code",
        "colab": {}
      },
      "source": [
        "Model = models.Sequential()\n",
        "Model.add(layers.Embedding((len(tokenizer.word_index)+1), 100, input_length=40))\n",
        "Model.add(layers.Flatten())\n",
        "Model.add(layers.Dense(1, activation='sigmoid'))"
      ],
      "execution_count": 9,
      "outputs": []
    },
    {
      "cell_type": "code",
      "metadata": {
        "id": "PWN6sZd3K7pZ",
        "colab_type": "code",
        "colab": {}
      },
      "source": [
        "new_dict = {}\n",
        "f = open('/content/glove.6B.100d.txt')\n",
        "for line in f:\n",
        "  values = line.split()\n",
        "  word = values[0]\n",
        "  embeddings = np.array(values[1:], dtype='float32')\n",
        "  new_dict[word] = embeddings"
      ],
      "execution_count": 10,
      "outputs": []
    },
    {
      "cell_type": "code",
      "metadata": {
        "id": "LTkH2Qh1M73X",
        "colab_type": "code",
        "colab": {}
      },
      "source": [
        "embedding_matrix = np.zeros(((len(tokenizer.word_index)+1), 100))\n",
        "for word, i in tokenizer.word_index.items():\n",
        "  embedding_vector = new_dict.get(word)\n",
        "  if embedding_vector is not None:\n",
        "    embedding_matrix[i] = embedding_vector"
      ],
      "execution_count": 11,
      "outputs": []
    },
    {
      "cell_type": "code",
      "metadata": {
        "id": "aSDFXMJsOFhD",
        "colab_type": "code",
        "colab": {}
      },
      "source": [
        "Model.layers[0].set_weights = embedding_matrix\n",
        "Model.layers[0].trainable = False"
      ],
      "execution_count": 12,
      "outputs": []
    },
    {
      "cell_type": "code",
      "metadata": {
        "id": "h6yiVQ0pOZQ4",
        "colab_type": "code",
        "colab": {}
      },
      "source": [
        "Model.compile(loss='binary_crossentropy', optimizer=optimizers.RMSprop(), metrics=['acc'])"
      ],
      "execution_count": 14,
      "outputs": []
    },
    {
      "cell_type": "code",
      "metadata": {
        "id": "QsZyd1zEOqRQ",
        "colab_type": "code",
        "colab": {
          "base_uri": "https://localhost:8080/",
          "height": 1000
        },
        "outputId": "5d36e47f-db6e-437b-89aa-a87cfba3ff44"
      },
      "source": [
        "history = Model.fit(x_train, y_train, epochs=30, batch_size=128, validation_data=(x_val, y_val))"
      ],
      "execution_count": 15,
      "outputs": [
        {
          "output_type": "stream",
          "text": [
            "Epoch 1/30\n",
            "79/79 [==============================] - 0s 6ms/step - loss: 0.6887 - acc: 0.5363 - val_loss: 0.6848 - val_acc: 0.5560\n",
            "Epoch 2/30\n",
            "79/79 [==============================] - 0s 4ms/step - loss: 0.6822 - acc: 0.5903 - val_loss: 0.6826 - val_acc: 0.5630\n",
            "Epoch 3/30\n",
            "79/79 [==============================] - 0s 4ms/step - loss: 0.6768 - acc: 0.6055 - val_loss: 0.6813 - val_acc: 0.5630\n",
            "Epoch 4/30\n",
            "79/79 [==============================] - 0s 4ms/step - loss: 0.6717 - acc: 0.6209 - val_loss: 0.6799 - val_acc: 0.5650\n",
            "Epoch 5/30\n",
            "79/79 [==============================] - 0s 4ms/step - loss: 0.6668 - acc: 0.6400 - val_loss: 0.6783 - val_acc: 0.5620\n",
            "Epoch 6/30\n",
            "79/79 [==============================] - 0s 4ms/step - loss: 0.6620 - acc: 0.6495 - val_loss: 0.6775 - val_acc: 0.5690\n",
            "Epoch 7/30\n",
            "79/79 [==============================] - 0s 4ms/step - loss: 0.6575 - acc: 0.6591 - val_loss: 0.6761 - val_acc: 0.5660\n",
            "Epoch 8/30\n",
            "79/79 [==============================] - 0s 4ms/step - loss: 0.6530 - acc: 0.6705 - val_loss: 0.6759 - val_acc: 0.5680\n",
            "Epoch 9/30\n",
            "79/79 [==============================] - 0s 4ms/step - loss: 0.6487 - acc: 0.6834 - val_loss: 0.6744 - val_acc: 0.5710\n",
            "Epoch 10/30\n",
            "79/79 [==============================] - 0s 4ms/step - loss: 0.6445 - acc: 0.6882 - val_loss: 0.6760 - val_acc: 0.5820\n",
            "Epoch 11/30\n",
            "79/79 [==============================] - 0s 4ms/step - loss: 0.6408 - acc: 0.6970 - val_loss: 0.6732 - val_acc: 0.5760\n",
            "Epoch 12/30\n",
            "79/79 [==============================] - 0s 4ms/step - loss: 0.6367 - acc: 0.7032 - val_loss: 0.6724 - val_acc: 0.5810\n",
            "Epoch 13/30\n",
            "79/79 [==============================] - 0s 4ms/step - loss: 0.6328 - acc: 0.7076 - val_loss: 0.6711 - val_acc: 0.5740\n",
            "Epoch 14/30\n",
            "79/79 [==============================] - 0s 4ms/step - loss: 0.6291 - acc: 0.7111 - val_loss: 0.6703 - val_acc: 0.5750\n",
            "Epoch 15/30\n",
            "79/79 [==============================] - 0s 4ms/step - loss: 0.6256 - acc: 0.7122 - val_loss: 0.6703 - val_acc: 0.5790\n",
            "Epoch 16/30\n",
            "79/79 [==============================] - 0s 3ms/step - loss: 0.6220 - acc: 0.7207 - val_loss: 0.6690 - val_acc: 0.5830\n",
            "Epoch 17/30\n",
            "79/79 [==============================] - 0s 4ms/step - loss: 0.6188 - acc: 0.7213 - val_loss: 0.6685 - val_acc: 0.5800\n",
            "Epoch 18/30\n",
            "79/79 [==============================] - 0s 4ms/step - loss: 0.6155 - acc: 0.7204 - val_loss: 0.6692 - val_acc: 0.5810\n",
            "Epoch 19/30\n",
            "79/79 [==============================] - 0s 4ms/step - loss: 0.6124 - acc: 0.7307 - val_loss: 0.6676 - val_acc: 0.5790\n",
            "Epoch 20/30\n",
            "79/79 [==============================] - 0s 4ms/step - loss: 0.6093 - acc: 0.7283 - val_loss: 0.6674 - val_acc: 0.5770\n",
            "Epoch 21/30\n",
            "79/79 [==============================] - 0s 4ms/step - loss: 0.6063 - acc: 0.7310 - val_loss: 0.6672 - val_acc: 0.5790\n",
            "Epoch 22/30\n",
            "79/79 [==============================] - 0s 4ms/step - loss: 0.6034 - acc: 0.7344 - val_loss: 0.6672 - val_acc: 0.5800\n",
            "Epoch 23/30\n",
            "79/79 [==============================] - 0s 3ms/step - loss: 0.6005 - acc: 0.7374 - val_loss: 0.6667 - val_acc: 0.5730\n",
            "Epoch 24/30\n",
            "79/79 [==============================] - 0s 3ms/step - loss: 0.5976 - acc: 0.7394 - val_loss: 0.6667 - val_acc: 0.5750\n",
            "Epoch 25/30\n",
            "79/79 [==============================] - 0s 4ms/step - loss: 0.5950 - acc: 0.7384 - val_loss: 0.6664 - val_acc: 0.5720\n",
            "Epoch 26/30\n",
            "79/79 [==============================] - 0s 4ms/step - loss: 0.5924 - acc: 0.7384 - val_loss: 0.6667 - val_acc: 0.5720\n",
            "Epoch 27/30\n",
            "79/79 [==============================] - 0s 4ms/step - loss: 0.5898 - acc: 0.7405 - val_loss: 0.6665 - val_acc: 0.5760\n",
            "Epoch 28/30\n",
            "79/79 [==============================] - 0s 4ms/step - loss: 0.5872 - acc: 0.7424 - val_loss: 0.6664 - val_acc: 0.5790\n",
            "Epoch 29/30\n",
            "79/79 [==============================] - 0s 4ms/step - loss: 0.5848 - acc: 0.7448 - val_loss: 0.6663 - val_acc: 0.5780\n",
            "Epoch 30/30\n",
            "79/79 [==============================] - 0s 4ms/step - loss: 0.5823 - acc: 0.7448 - val_loss: 0.6671 - val_acc: 0.5770\n"
          ],
          "name": "stdout"
        }
      ]
    },
    {
      "cell_type": "code",
      "metadata": {
        "id": "sIufpSMJFv3c",
        "colab_type": "code",
        "colab": {
          "base_uri": "https://localhost:8080/",
          "height": 51
        },
        "outputId": "89f258da-201f-4c49-b34e-e9835acb8ae3"
      },
      "source": [
        "Model.evaluate(x_test, y_test)"
      ],
      "execution_count": 16,
      "outputs": [
        {
          "output_type": "stream",
          "text": [
            "32/32 [==============================] - 0s 2ms/step - loss: 0.6652 - acc: 0.5940\n"
          ],
          "name": "stdout"
        },
        {
          "output_type": "execute_result",
          "data": {
            "text/plain": [
              "[0.6652289032936096, 0.593999981880188]"
            ]
          },
          "metadata": {
            "tags": []
          },
          "execution_count": 16
        }
      ]
    },
    {
      "cell_type": "code",
      "metadata": {
        "id": "XtS46ocjF0I7",
        "colab_type": "code",
        "colab": {
          "base_uri": "https://localhost:8080/",
          "height": 545
        },
        "outputId": "a30560f7-33c2-4aaa-b667-94da747ef537"
      },
      "source": [
        "import matplotlib.pyplot as plt\n",
        "train_acc = history.history['acc']\n",
        "val_acc = history.history['val_acc']\n",
        "train_loss = history.history['loss']\n",
        "val_loss = history.history['val_loss']\n",
        "epochs = range(1, 31)\n",
        "plt.plot(epochs, train_loss, 'bo', label='train_loss')\n",
        "plt.plot(epochs, val_loss, 'b', label='val_loss')\n",
        "plt.title('Training And Validation Loss')\n",
        "plt.legend()\n",
        "plt.figure()\n",
        "plt.plot(epochs, train_acc, 'bo', label='train_acc')\n",
        "plt.plot(epochs, val_acc, 'b', label='val_acc')\n",
        "plt.title('Training And Validation Accuracy')\n",
        "plt.legend()\n",
        "plt.show()"
      ],
      "execution_count": 17,
      "outputs": [
        {
          "output_type": "display_data",
          "data": {
            "image/png": "[encoded data removed]",
            "text/plain": [
              "<Figure size 432x288 with 1 Axes>"
            ]
          },
          "metadata": {
            "tags": [],
            "needs_background": "light"
          }
        },
        {
          "output_type": "display_data",
          "data": {
            "image/png": "[encoded data removed]",
            "text/plain": [
              "<Figure size 432x288 with 1 Axes>"
            ]
          },
          "metadata": {
            "tags": [],
            "needs_background": "light"
          }
        }
      ]
    },
    {
      "cell_type": "code",
      "metadata": {
        "id": "3RdYn1NuF6iE",
        "colab_type": "code",
        "colab": {}
      },
      "source": [
        "Model = models.Sequential()\n",
        "Model.add(layers.Embedding((len(tokenizer.word_index)+1), 100, input_length=40))\n",
        "Model.add(layers.SimpleRNN(32, recurrent_dropout=0.1))\n",
        "Model.add(layers.Dense(1, activation='sigmoid'))"
      ],
      "execution_count": 18,
      "outputs": []
    },
    {
      "cell_type": "code",
      "metadata": {
        "id": "jk4BoeXWGUBl",
        "colab_type": "code",
        "colab": {}
      },
      "source": [
        "Model.layers[0].set_weights = embedding_matrix\n",
        "Model.layers[0].trainable = False"
      ],
      "execution_count": 19,
      "outputs": []
    },
    {
      "cell_type": "code",
      "metadata": {
        "id": "5WdodX-uGYMX",
        "colab_type": "code",
        "colab": {}
      },
      "source": [
        "Model.compile(loss='binary_crossentropy', optimizer=optimizers.RMSprop(), metrics=['acc'])"
      ],
      "execution_count": 22,
      "outputs": []
    },
    {
      "cell_type": "code",
      "metadata": {
        "id": "0FHjF5rtGciA",
        "colab_type": "code",
        "colab": {
          "base_uri": "https://localhost:8080/",
          "height": 1000
        },
        "outputId": "c8718875-ca97-4382-d10d-eb1d3f5f2333"
      },
      "source": [
        "history = Model.fit(x_train, y_train, epochs=30, batch_size=128, validation_data=(x_val, y_val))"
      ],
      "execution_count": 23,
      "outputs": [
        {
          "output_type": "stream",
          "text": [
            "Epoch 1/30\n",
            "79/79 [==============================] - 2s 21ms/step - loss: 0.6909 - acc: 0.5378 - val_loss: 0.6790 - val_acc: 0.5680\n",
            "Epoch 2/30\n",
            "79/79 [==============================] - 2s 19ms/step - loss: 0.6856 - acc: 0.5479 - val_loss: 0.7554 - val_acc: 0.4850\n",
            "Epoch 3/30\n",
            "79/79 [==============================] - 2s 19ms/step - loss: 0.6811 - acc: 0.5668 - val_loss: 0.6898 - val_acc: 0.5180\n",
            "Epoch 4/30\n",
            "79/79 [==============================] - 2s 19ms/step - loss: 0.6749 - acc: 0.5817 - val_loss: 0.6672 - val_acc: 0.6040\n",
            "Epoch 5/30\n",
            "79/79 [==============================] - 1s 18ms/step - loss: 0.6709 - acc: 0.5890 - val_loss: 0.6926 - val_acc: 0.5610\n",
            "Epoch 6/30\n",
            "79/79 [==============================] - 2s 19ms/step - loss: 0.6694 - acc: 0.5921 - val_loss: 0.6725 - val_acc: 0.6140\n",
            "Epoch 7/30\n",
            "79/79 [==============================] - 2s 19ms/step - loss: 0.6635 - acc: 0.5997 - val_loss: 0.6797 - val_acc: 0.5530\n",
            "Epoch 8/30\n",
            "79/79 [==============================] - 1s 19ms/step - loss: 0.6632 - acc: 0.6017 - val_loss: 0.6673 - val_acc: 0.6160\n",
            "Epoch 9/30\n",
            "79/79 [==============================] - 1s 19ms/step - loss: 0.6616 - acc: 0.6055 - val_loss: 0.6642 - val_acc: 0.5960\n",
            "Epoch 10/30\n",
            "79/79 [==============================] - 1s 19ms/step - loss: 0.6564 - acc: 0.6101 - val_loss: 0.8056 - val_acc: 0.5680\n",
            "Epoch 11/30\n",
            "79/79 [==============================] - 1s 19ms/step - loss: 0.6571 - acc: 0.6077 - val_loss: 0.6658 - val_acc: 0.6140\n",
            "Epoch 12/30\n",
            "79/79 [==============================] - 2s 19ms/step - loss: 0.6526 - acc: 0.6117 - val_loss: 0.6554 - val_acc: 0.6100\n",
            "Epoch 13/30\n",
            "79/79 [==============================] - 2s 19ms/step - loss: 0.6510 - acc: 0.6231 - val_loss: 0.6727 - val_acc: 0.5790\n",
            "Epoch 14/30\n",
            "79/79 [==============================] - 2s 20ms/step - loss: 0.6514 - acc: 0.6216 - val_loss: 0.7009 - val_acc: 0.5420\n",
            "Epoch 15/30\n",
            "79/79 [==============================] - 2s 20ms/step - loss: 0.6480 - acc: 0.6215 - val_loss: 0.6545 - val_acc: 0.6180\n",
            "Epoch 16/30\n",
            "79/79 [==============================] - 1s 19ms/step - loss: 0.6482 - acc: 0.6217 - val_loss: 0.6603 - val_acc: 0.6040\n",
            "Epoch 17/30\n",
            "79/79 [==============================] - 2s 19ms/step - loss: 0.6451 - acc: 0.6271 - val_loss: 0.6610 - val_acc: 0.6070\n",
            "Epoch 18/30\n",
            "79/79 [==============================] - 1s 19ms/step - loss: 0.6439 - acc: 0.6249 - val_loss: 0.7095 - val_acc: 0.5740\n",
            "Epoch 19/30\n",
            "79/79 [==============================] - 1s 19ms/step - loss: 0.6451 - acc: 0.6258 - val_loss: 0.6703 - val_acc: 0.6120\n",
            "Epoch 20/30\n",
            "79/79 [==============================] - 1s 18ms/step - loss: 0.6436 - acc: 0.6275 - val_loss: 0.6599 - val_acc: 0.6050\n",
            "Epoch 21/30\n",
            "79/79 [==============================] - 1s 19ms/step - loss: 0.6408 - acc: 0.6341 - val_loss: 0.7059 - val_acc: 0.6120\n",
            "Epoch 22/30\n",
            "79/79 [==============================] - 1s 18ms/step - loss: 0.6400 - acc: 0.6306 - val_loss: 0.6585 - val_acc: 0.6080\n",
            "Epoch 23/30\n",
            "79/79 [==============================] - 1s 19ms/step - loss: 0.6385 - acc: 0.6352 - val_loss: 0.6530 - val_acc: 0.6090\n",
            "Epoch 24/30\n",
            "79/79 [==============================] - 1s 19ms/step - loss: 0.6358 - acc: 0.6352 - val_loss: 0.6522 - val_acc: 0.6150\n",
            "Epoch 25/30\n",
            "79/79 [==============================] - 1s 19ms/step - loss: 0.6351 - acc: 0.6363 - val_loss: 0.6602 - val_acc: 0.5990\n",
            "Epoch 26/30\n",
            "79/79 [==============================] - 1s 19ms/step - loss: 0.6356 - acc: 0.6359 - val_loss: 0.6520 - val_acc: 0.6240\n",
            "Epoch 27/30\n",
            "79/79 [==============================] - 1s 19ms/step - loss: 0.6336 - acc: 0.6396 - val_loss: 0.6686 - val_acc: 0.5940\n",
            "Epoch 28/30\n",
            "79/79 [==============================] - 1s 18ms/step - loss: 0.6306 - acc: 0.6442 - val_loss: 0.6604 - val_acc: 0.6120\n",
            "Epoch 29/30\n",
            "79/79 [==============================] - 1s 18ms/step - loss: 0.6317 - acc: 0.6439 - val_loss: 0.6544 - val_acc: 0.6270\n",
            "Epoch 30/30\n",
            "79/79 [==============================] - 2s 19ms/step - loss: 0.6288 - acc: 0.6430 - val_loss: 0.6646 - val_acc: 0.6010\n"
          ],
          "name": "stdout"
        }
      ]
    },
    {
      "cell_type": "code",
      "metadata": {
        "id": "ppvqLDvMISQi",
        "colab_type": "code",
        "colab": {
          "base_uri": "https://localhost:8080/",
          "height": 51
        },
        "outputId": "97b67e40-e484-47d7-e98c-713a3e7a51b2"
      },
      "source": [
        "Model.evaluate(x_test, y_test)"
      ],
      "execution_count": 24,
      "outputs": [
        {
          "output_type": "stream",
          "text": [
            "32/32 [==============================] - 0s 3ms/step - loss: 0.6798 - acc: 0.5600\n"
          ],
          "name": "stdout"
        },
        {
          "output_type": "execute_result",
          "data": {
            "text/plain": [
              "[0.6797623634338379, 0.5600000023841858]"
            ]
          },
          "metadata": {
            "tags": []
          },
          "execution_count": 24
        }
      ]
    },
    {
      "cell_type": "code",
      "metadata": {
        "id": "1_gr0TNhIkLN",
        "colab_type": "code",
        "colab": {
          "base_uri": "https://localhost:8080/",
          "height": 545
        },
        "outputId": "a7f3ee18-28d6-4b04-c0ed-f337bcb7c206"
      },
      "source": [
        "import matplotlib.pyplot as plt\n",
        "train_acc = history.history['acc']\n",
        "val_acc = history.history['val_acc']\n",
        "train_loss = history.history['loss']\n",
        "val_loss = history.history['val_loss']\n",
        "epochs = range(1, 31)\n",
        "plt.plot(epochs, train_loss, 'bo', label='train_loss')\n",
        "plt.plot(epochs, val_loss, 'b', label='val_loss')\n",
        "plt.title('Training And Validation Loss')\n",
        "plt.legend()\n",
        "plt.figure()\n",
        "plt.plot(epochs, train_acc, 'bo', label='train_acc')\n",
        "plt.plot(epochs, val_acc, 'b', label='val_acc')\n",
        "plt.title('Training And Validation Accuracy')\n",
        "plt.legend()\n",
        "plt.show()"
      ],
      "execution_count": 25,
      "outputs": [
        {
          "output_type": "display_data",
          "data": {
            "image/png": "[encoded data removed]",
            "text/plain": [
              "<Figure size 432x288 with 1 Axes>"
            ]
          },
          "metadata": {
            "tags": [],
            "needs_background": "light"
          }
        },
        {
          "output_type": "display_data",
          "data": {
            "image/png": "[encoded data removed]",
            "text/plain": [
              "<Figure size 432x288 with 1 Axes>"
            ]
          },
          "metadata": {
            "tags": [],
            "needs_background": "light"
          }
        }
      ]
    },
    {
      "cell_type": "code",
      "metadata": {
        "id": "HoPMJeiVIuTB",
        "colab_type": "code",
        "colab": {}
      },
      "source": [
        "Model = models.Sequential()\n",
        "Model.add(layers.Embedding((len(tokenizer.word_index)+1), 32, input_length=40))\n",
        "Model.add(layers.SimpleRNN(32, recurrent_dropout=0.1))\n",
        "Model.add(layers.Dense(1, activation='sigmoid'))"
      ],
      "execution_count": 28,
      "outputs": []
    },
    {
      "cell_type": "code",
      "metadata": {
        "id": "SWMK2lkGI1s0",
        "colab_type": "code",
        "colab": {}
      },
      "source": [
        "Model.compile(loss='binary_crossentropy', optimizer=optimizers.RMSprop(), metrics=['acc'])"
      ],
      "execution_count": 29,
      "outputs": []
    },
    {
      "cell_type": "code",
      "metadata": {
        "id": "35_Ck7cLI6eN",
        "colab_type": "code",
        "colab": {
          "base_uri": "https://localhost:8080/",
          "height": 1000
        },
        "outputId": "2905a4e1-aa2d-484b-dcb3-41b91cbcc912"
      },
      "source": [
        "history = Model.fit(x_train, y_train, epochs=30, batch_size=128, validation_data=(x_val, y_val))"
      ],
      "execution_count": 30,
      "outputs": [
        {
          "output_type": "stream",
          "text": [
            "Epoch 1/30\n",
            "79/79 [==============================] - 6s 77ms/step - loss: 0.6945 - acc: 0.5199 - val_loss: 0.6790 - val_acc: 0.5910\n",
            "Epoch 2/30\n",
            "79/79 [==============================] - 6s 73ms/step - loss: 0.6106 - acc: 0.6845 - val_loss: 0.6287 - val_acc: 0.6870\n",
            "Epoch 3/30\n",
            "79/79 [==============================] - 6s 73ms/step - loss: 0.4199 - acc: 0.8263 - val_loss: 0.4664 - val_acc: 0.7760\n",
            "Epoch 4/30\n",
            "79/79 [==============================] - 6s 74ms/step - loss: 0.2783 - acc: 0.8946 - val_loss: 0.4634 - val_acc: 0.8040\n",
            "Epoch 5/30\n",
            "79/79 [==============================] - 6s 75ms/step - loss: 0.1793 - acc: 0.9372 - val_loss: 0.5028 - val_acc: 0.7630\n",
            "Epoch 6/30\n",
            "79/79 [==============================] - 6s 77ms/step - loss: 0.1150 - acc: 0.9629 - val_loss: 0.6151 - val_acc: 0.7870\n",
            "Epoch 7/30\n",
            "79/79 [==============================] - 6s 75ms/step - loss: 0.0681 - acc: 0.9805 - val_loss: 0.7547 - val_acc: 0.7720\n",
            "Epoch 8/30\n",
            "79/79 [==============================] - 6s 74ms/step - loss: 0.0471 - acc: 0.9856 - val_loss: 0.8246 - val_acc: 0.7600\n",
            "Epoch 9/30\n",
            "79/79 [==============================] - 6s 74ms/step - loss: 0.0275 - acc: 0.9923 - val_loss: 0.8760 - val_acc: 0.7800\n",
            "Epoch 10/30\n",
            "79/79 [==============================] - 6s 74ms/step - loss: 0.0196 - acc: 0.9945 - val_loss: 0.8933 - val_acc: 0.7740\n",
            "Epoch 11/30\n",
            "79/79 [==============================] - 6s 75ms/step - loss: 0.0125 - acc: 0.9971 - val_loss: 1.2747 - val_acc: 0.7420\n",
            "Epoch 12/30\n",
            "79/79 [==============================] - 6s 74ms/step - loss: 0.0086 - acc: 0.9976 - val_loss: 0.9488 - val_acc: 0.7580\n",
            "Epoch 13/30\n",
            "79/79 [==============================] - 6s 74ms/step - loss: 0.0044 - acc: 0.9989 - val_loss: 1.1399 - val_acc: 0.7690\n",
            "Epoch 14/30\n",
            "79/79 [==============================] - 6s 74ms/step - loss: 0.0027 - acc: 0.9995 - val_loss: 1.4669 - val_acc: 0.7640\n",
            "Epoch 15/30\n",
            "79/79 [==============================] - 6s 74ms/step - loss: 0.0036 - acc: 0.9991 - val_loss: 1.1352 - val_acc: 0.7340\n",
            "Epoch 16/30\n",
            "79/79 [==============================] - 6s 73ms/step - loss: 0.0023 - acc: 0.9995 - val_loss: 1.1371 - val_acc: 0.7310\n",
            "Epoch 17/30\n",
            "79/79 [==============================] - 6s 74ms/step - loss: 0.0034 - acc: 0.9990 - val_loss: 1.3583 - val_acc: 0.7540\n",
            "Epoch 18/30\n",
            "79/79 [==============================] - 6s 74ms/step - loss: 0.0014 - acc: 0.9996 - val_loss: 1.6711 - val_acc: 0.7640\n",
            "Epoch 19/30\n",
            "79/79 [==============================] - 6s 73ms/step - loss: 6.8299e-04 - acc: 0.9998 - val_loss: 1.6891 - val_acc: 0.7640\n",
            "Epoch 20/30\n",
            "79/79 [==============================] - 6s 73ms/step - loss: 9.4368e-04 - acc: 0.9997 - val_loss: 1.4844 - val_acc: 0.7390\n",
            "Epoch 21/30\n",
            "79/79 [==============================] - 6s 73ms/step - loss: 0.0013 - acc: 0.9996 - val_loss: 1.5206 - val_acc: 0.7450\n",
            "Epoch 22/30\n",
            "79/79 [==============================] - 6s 73ms/step - loss: 5.0590e-04 - acc: 0.9999 - val_loss: 1.7518 - val_acc: 0.7470\n",
            "Epoch 23/30\n",
            "79/79 [==============================] - 6s 74ms/step - loss: 4.5608e-05 - acc: 1.0000 - val_loss: 2.0051 - val_acc: 0.7500\n",
            "Epoch 24/30\n",
            "79/79 [==============================] - 6s 75ms/step - loss: 8.9961e-04 - acc: 0.9997 - val_loss: 1.7781 - val_acc: 0.7210\n",
            "Epoch 25/30\n",
            "79/79 [==============================] - 6s 73ms/step - loss: 4.9678e-04 - acc: 0.9998 - val_loss: 1.9209 - val_acc: 0.7480\n",
            "Epoch 26/30\n",
            "79/79 [==============================] - 6s 74ms/step - loss: 1.7919e-04 - acc: 0.9999 - val_loss: 1.6969 - val_acc: 0.7150\n",
            "Epoch 27/30\n",
            "79/79 [==============================] - 6s 74ms/step - loss: 1.1235e-04 - acc: 1.0000 - val_loss: 1.8048 - val_acc: 0.7410\n",
            "Epoch 28/30\n",
            "79/79 [==============================] - 6s 74ms/step - loss: 4.5245e-05 - acc: 1.0000 - val_loss: 2.4585 - val_acc: 0.7370\n",
            "Epoch 29/30\n",
            "79/79 [==============================] - 6s 73ms/step - loss: 4.2717e-04 - acc: 0.9999 - val_loss: 1.9611 - val_acc: 0.7400\n",
            "Epoch 30/30\n",
            "79/79 [==============================] - 6s 74ms/step - loss: 4.4160e-05 - acc: 1.0000 - val_loss: 2.0562 - val_acc: 0.7470\n"
          ],
          "name": "stdout"
        }
      ]
    },
    {
      "cell_type": "code",
      "metadata": {
        "id": "KEZuMzOHLj0X",
        "colab_type": "code",
        "colab": {
          "base_uri": "https://localhost:8080/",
          "height": 51
        },
        "outputId": "eda51132-5596-4d1f-a7a8-6f4a9c544792"
      },
      "source": [
        "Model.evaluate(x_test, y_test)"
      ],
      "execution_count": 31,
      "outputs": [
        {
          "output_type": "stream",
          "text": [
            "32/32 [==============================] - 0s 3ms/step - loss: 2.0556 - acc: 0.7570\n"
          ],
          "name": "stdout"
        },
        {
          "output_type": "execute_result",
          "data": {
            "text/plain": [
              "[2.055610418319702, 0.7570000290870667]"
            ]
          },
          "metadata": {
            "tags": []
          },
          "execution_count": 31
        }
      ]
    },
    {
      "cell_type": "code",
      "metadata": {
        "id": "jBb19EQbLnR5",
        "colab_type": "code",
        "colab": {
          "base_uri": "https://localhost:8080/",
          "height": 545
        },
        "outputId": "35b0d8e2-a8bc-4ba8-8704-d77e73eada66"
      },
      "source": [
        "import matplotlib.pyplot as plt\n",
        "train_acc = history.history['acc']\n",
        "val_acc = history.history['val_acc']\n",
        "train_loss = history.history['loss']\n",
        "val_loss = history.history['val_loss']\n",
        "epochs = range(1, 31)\n",
        "plt.plot(epochs, train_loss, 'bo', label='train_loss')\n",
        "plt.plot(epochs, val_loss, 'b', label='val_loss')\n",
        "plt.title('Training And Validation Loss')\n",
        "plt.legend()\n",
        "plt.figure()\n",
        "plt.plot(epochs, train_acc, 'bo', label='train_acc')\n",
        "plt.plot(epochs, val_acc, 'b', label='val_acc')\n",
        "plt.title('Training And Validation Accuracy')\n",
        "plt.legend()\n",
        "plt.show()"
      ],
      "execution_count": 32,
      "outputs": [
        {
          "output_type": "display_data",
          "data": {
            "image/png": "[encoded data removed]",
            "text/plain": [
              "<Figure size 432x288 with 1 Axes>"
            ]
          },
          "metadata": {
            "tags": [],
            "needs_background": "light"
          }
        },
        {
          "output_type": "display_data",
          "data": {
            "image/png": "[encoded data removed]",
            "text/plain": [
              "<Figure size 432x288 with 1 Axes>"
            ]
          },
          "metadata": {
            "tags": [],
            "needs_background": "light"
          }
        }
      ]
    }
  ]
}